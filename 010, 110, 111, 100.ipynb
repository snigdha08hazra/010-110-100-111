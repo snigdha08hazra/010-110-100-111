{
 "cells": [
  {
   "cell_type": "code",
   "execution_count": 2,
   "id": "6f13cecc",
   "metadata": {},
   "outputs": [],
   "source": [
    "from qiskit.quantum_info import Statevector, Operator\n",
    "from qiskit import QuantumCircuit, Aer, execute"
   ]
  },
  {
   "cell_type": "markdown",
   "id": "85970ff5",
   "metadata": {},
   "source": [
    "### Q = HPHO = H (2 |000⟩ ⟨000| - I) H (I - 2|010⟩ ⟨010| - 2|110⟩ ⟨110| - 2|100⟩ ⟨100|- 2|111⟩ ⟨111|)"
   ]
  },
  {
   "cell_type": "code",
   "execution_count": 3,
   "id": "c08952d7",
   "metadata": {},
   "outputs": [
    {
     "data": {
      "text/plain": [
       "'initialised |ψ0⟩'"
      ]
     },
     "metadata": {},
     "output_type": "display_data"
    },
    {
     "data": {
      "text/latex": [
       "$$ |000\\rangle$$"
      ],
      "text/plain": [
       "<IPython.core.display.Latex object>"
      ]
     },
     "metadata": {},
     "output_type": "display_data"
    },
    {
     "name": "stdout",
     "output_type": "stream",
     "text": [
      "coherence of |ψ0⟩ =  0.0\n"
     ]
    },
    {
     "data": {
      "text/plain": [
       "'applied Hadamard to all |ψ1⟩'"
      ]
     },
     "metadata": {},
     "output_type": "display_data"
    },
    {
     "data": {
      "text/latex": [
       "$$\\frac{\\sqrt{2}}{4} |000\\rangle+\\frac{\\sqrt{2}}{4} |001\\rangle+\\frac{\\sqrt{2}}{4} |010\\rangle+\\frac{\\sqrt{2}}{4} |011\\rangle+\\frac{\\sqrt{2}}{4} |100\\rangle+\\frac{\\sqrt{2}}{4} |101\\rangle+\\frac{\\sqrt{2}}{4} |110\\rangle+\\frac{\\sqrt{2}}{4} |111\\rangle$$"
      ],
      "text/plain": [
       "<IPython.core.display.Latex object>"
      ]
     },
     "metadata": {},
     "output_type": "display_data"
    },
    {
     "name": "stdout",
     "output_type": "stream",
     "text": [
      "coherence of |ψ1⟩ =  7.000000000000001\n",
      "1st ITERATION OF GROVER'S OPERATOR\n"
     ]
    },
    {
     "data": {
      "text/plain": [
       "'applied O operator to all |ψ2⟩'"
      ]
     },
     "metadata": {},
     "output_type": "display_data"
    },
    {
     "data": {
      "text/latex": [
       "$$\\frac{\\sqrt{2}}{4} |000\\rangle+\\frac{\\sqrt{2}}{4} |001\\rangle- \\frac{\\sqrt{2}}{4} |010\\rangle+\\frac{\\sqrt{2}}{4} |011\\rangle- \\frac{\\sqrt{2}}{4} |100\\rangle+\\frac{\\sqrt{2}}{4} |101\\rangle- \\frac{\\sqrt{2}}{4} |110\\rangle- \\frac{\\sqrt{2}}{4} |111\\rangle$$"
      ],
      "text/plain": [
       "<IPython.core.display.Latex object>"
      ]
     },
     "metadata": {},
     "output_type": "display_data"
    },
    {
     "name": "stdout",
     "output_type": "stream",
     "text": [
      "coherence of |ψ2⟩ =  7.000000000000001\n"
     ]
    },
    {
     "data": {
      "text/plain": [
       "'applied Hadamard to all |ψ3⟩'"
      ]
     },
     "metadata": {},
     "output_type": "display_data"
    },
    {
     "data": {
      "text/latex": [
       "$$- \\frac{1}{2} |001\\rangle+\\frac{1}{2} |010\\rangle+\\frac{1}{2} |100\\rangle+\\frac{1}{2} |111\\rangle$$"
      ],
      "text/plain": [
       "<IPython.core.display.Latex object>"
      ]
     },
     "metadata": {},
     "output_type": "display_data"
    },
    {
     "name": "stdout",
     "output_type": "stream",
     "text": [
      "coherence of |ψ3⟩ =  3.0000000000000018\n"
     ]
    },
    {
     "data": {
      "text/plain": [
       "'applied P operator to all |ψ4⟩'"
      ]
     },
     "metadata": {},
     "output_type": "display_data"
    },
    {
     "data": {
      "text/latex": [
       "$$\\frac{1}{2} |001\\rangle- \\frac{1}{2} |010\\rangle- \\frac{1}{2} |100\\rangle- \\frac{1}{2} |111\\rangle$$"
      ],
      "text/plain": [
       "<IPython.core.display.Latex object>"
      ]
     },
     "metadata": {},
     "output_type": "display_data"
    },
    {
     "name": "stdout",
     "output_type": "stream",
     "text": [
      "coherence of |ψ4⟩ =  3.0000000000000018\n"
     ]
    },
    {
     "data": {
      "text/plain": [
       "'applied Hadamard to all |ψ5⟩'"
      ]
     },
     "metadata": {},
     "output_type": "display_data"
    },
    {
     "data": {
      "text/latex": [
       "$$- \\frac{\\sqrt{2}}{4} |000\\rangle- \\frac{\\sqrt{2}}{4} |001\\rangle+\\frac{\\sqrt{2}}{4} |010\\rangle- \\frac{\\sqrt{2}}{4} |011\\rangle+\\frac{\\sqrt{2}}{4} |100\\rangle- \\frac{\\sqrt{2}}{4} |101\\rangle+\\frac{\\sqrt{2}}{4} |110\\rangle+\\frac{\\sqrt{2}}{4} |111\\rangle$$"
      ],
      "text/plain": [
       "<IPython.core.display.Latex object>"
      ]
     },
     "metadata": {},
     "output_type": "display_data"
    },
    {
     "name": "stdout",
     "output_type": "stream",
     "text": [
      "coherence of |ψ5⟩ =  7.000000000000003\n",
      "2nd ITERATION OF GROVER'S OPERATOR\n"
     ]
    },
    {
     "data": {
      "text/plain": [
       "'applied O operator to all |ψ2⟩'"
      ]
     },
     "metadata": {},
     "output_type": "display_data"
    },
    {
     "data": {
      "text/latex": [
       "$$- \\frac{\\sqrt{2}}{4} |000\\rangle- \\frac{\\sqrt{2}}{4} |001\\rangle- \\frac{\\sqrt{2}}{4} |010\\rangle- \\frac{\\sqrt{2}}{4} |011\\rangle- \\frac{\\sqrt{2}}{4} |100\\rangle- \\frac{\\sqrt{2}}{4} |101\\rangle- \\frac{\\sqrt{2}}{4} |110\\rangle- \\frac{\\sqrt{2}}{4} |111\\rangle$$"
      ],
      "text/plain": [
       "<IPython.core.display.Latex object>"
      ]
     },
     "metadata": {},
     "output_type": "display_data"
    },
    {
     "name": "stdout",
     "output_type": "stream",
     "text": [
      "coherence of |ψ0⟩ =  7.000000000000003\n"
     ]
    },
    {
     "data": {
      "text/plain": [
       "'applied Hadamard to all |ψ3⟩'"
      ]
     },
     "metadata": {},
     "output_type": "display_data"
    },
    {
     "data": {
      "text/latex": [
       "$$- |000\\rangle$$"
      ],
      "text/plain": [
       "<IPython.core.display.Latex object>"
      ]
     },
     "metadata": {},
     "output_type": "display_data"
    },
    {
     "name": "stdout",
     "output_type": "stream",
     "text": [
      "coherence of |ψ0⟩ =  1.3940593947726553e-15\n"
     ]
    },
    {
     "data": {
      "text/plain": [
       "'applied P operator to all |ψ4⟩'"
      ]
     },
     "metadata": {},
     "output_type": "display_data"
    },
    {
     "data": {
      "text/latex": [
       "$$- |000\\rangle$$"
      ],
      "text/plain": [
       "<IPython.core.display.Latex object>"
      ]
     },
     "metadata": {},
     "output_type": "display_data"
    },
    {
     "name": "stdout",
     "output_type": "stream",
     "text": [
      "coherence of |ψ0⟩ =  1.3940593947726553e-15\n"
     ]
    },
    {
     "data": {
      "text/plain": [
       "'applied Hadamard to all |ψ5⟩'"
      ]
     },
     "metadata": {},
     "output_type": "display_data"
    },
    {
     "data": {
      "text/latex": [
       "$$- \\frac{\\sqrt{2}}{4} |000\\rangle- \\frac{\\sqrt{2}}{4} |001\\rangle- \\frac{\\sqrt{2}}{4} |010\\rangle- \\frac{\\sqrt{2}}{4} |011\\rangle- \\frac{\\sqrt{2}}{4} |100\\rangle- \\frac{\\sqrt{2}}{4} |101\\rangle- \\frac{\\sqrt{2}}{4} |110\\rangle- \\frac{\\sqrt{2}}{4} |111\\rangle$$"
      ],
      "text/plain": [
       "<IPython.core.display.Latex object>"
      ]
     },
     "metadata": {},
     "output_type": "display_data"
    },
    {
     "name": "stdout",
     "output_type": "stream",
     "text": [
      "coherence of |ψ0⟩ =  7.000000000000004\n"
     ]
    },
    {
     "data": {
      "image/png": "[encoded data removed]",
      "text/plain": [
       "<Figure size 1290.83x284.278 with 1 Axes>"
      ]
     },
     "execution_count": 3,
     "metadata": {},
     "output_type": "execute_result"
    }
   ],
   "source": [
    "qc = QuantumCircuit(3)\n",
    "backend = Aer.get_backend('statevector_simulator')\n",
    "result = execute(qc, backend).result()\n",
    "state = result.get_statevector()\n",
    "display(\"initialised |ψ0⟩\", state.draw('latex'))\n",
    "density_operator = state.to_operator()\n",
    "#print(density_operator.data)\n",
    "coherence = 0\n",
    "for i in range(8):\n",
    "    for j in range(8):\n",
    "        if(i != j):\n",
    "            coherence += abs(density_operator.data[i,j])\n",
    "print(\"coherence of |ψ0⟩ = \",coherence)\n",
    "\n",
    "qc.h([0,1,2])\n",
    "result = execute(qc, backend).result()\n",
    "state = result.get_statevector()\n",
    "display(\"applied Hadamard to all |ψ1⟩\", state.draw('latex'))\n",
    "density_operator = state.to_operator()\n",
    "#print(density_operator.data)\n",
    "coherence = 0\n",
    "for i in range(8):\n",
    "    for j in range(8):\n",
    "        if(i != j):\n",
    "            coherence += abs(density_operator.data[i,j])\n",
    "print(\"coherence of |ψ1⟩ = \",coherence)\n",
    "\n",
    "#1st iteration\n",
    "print(\"1st ITERATION OF GROVER'S OPERATOR\")\n",
    "\n",
    "O_operator = Operator([[ 1, 0, 0, 0, 0, 0, 0, 0],  #000\n",
    "                       [ 0, 1, 0, 0, 0, 0, 0, 0],  #001\n",
    "                       [ 0, 0,-1, 0, 0, 0, 0, 0],  #010\n",
    "                       [ 0, 0, 0, 1, 0, 0, 0, 0],  #011\n",
    "                       [ 0, 0, 0, 0,-1, 0, 0, 0],  #100\n",
    "                       [ 0, 0, 0, 0, 0, 1, 0, 0],  #101\n",
    "                       [ 0, 0, 0, 0, 0, 0,-1, 0],  #110\n",
    "                       [ 0, 0, 0, 0, 0, 0, 0,-1]]) #111\n",
    "qc.append(O_operator,[0,1,2])\n",
    "result = execute(qc, backend).result()\n",
    "state = result.get_statevector()\n",
    "display(\"applied O operator to all |ψ2⟩\", state.draw('latex'))\n",
    "density_operator = state.to_operator()\n",
    "#print(density_operator.data)\n",
    "coherence = 0\n",
    "for i in range(8):\n",
    "    for j in range(8):\n",
    "        if(i != j):\n",
    "            coherence += abs(density_operator.data[i,j])\n",
    "print(\"coherence of |ψ2⟩ = \",coherence)\n",
    "\n",
    "qc.h([0,1,2])\n",
    "result = execute(qc, backend).result()\n",
    "state = result.get_statevector()\n",
    "display(\"applied Hadamard to all |ψ3⟩\", state.draw('latex'))\n",
    "density_operator = state.to_operator()\n",
    "#print(density_operator.data)\n",
    "coherence = 0\n",
    "for i in range(8):\n",
    "    for j in range(8):\n",
    "        if(i != j):\n",
    "            coherence += abs(density_operator.data[i,j])\n",
    "print(\"coherence of |ψ3⟩ = \",coherence)\n",
    "\n",
    "P_operator = Operator([[ 1, 0, 0, 0, 0, 0, 0, 0],\n",
    "                       [ 0,-1, 0, 0, 0, 0, 0, 0],\n",
    "                       [ 0, 0,-1, 0, 0, 0, 0, 0],\n",
    "                       [ 0, 0, 0,-1, 0, 0, 0, 0],\n",
    "                       [ 0, 0, 0, 0,-1, 0, 0, 0],\n",
    "                       [ 0, 0, 0, 0, 0,-1, 0, 0],\n",
    "                       [ 0, 0, 0, 0, 0, 0,-1, 0],\n",
    "                       [ 0, 0, 0, 0, 0, 0, 0,-1]])\n",
    "qc.append(P_operator,[0,1,2])\n",
    "result = execute(qc, backend).result()\n",
    "state = result.get_statevector()\n",
    "display(\"applied P operator to all |ψ4⟩\", state.draw('latex'))\n",
    "density_operator = state.to_operator()\n",
    "#print(density_operator.data)\n",
    "coherence = 0\n",
    "for i in range(8):\n",
    "    for j in range(8):\n",
    "        if(i != j):\n",
    "            coherence += abs(density_operator.data[i,j])\n",
    "print(\"coherence of |ψ4⟩ = \",coherence)\n",
    "\n",
    "qc.h([0,1,2])\n",
    "result = execute(qc, backend).result()\n",
    "state = result.get_statevector()\n",
    "display(\"applied Hadamard to all |ψ5⟩\", state.draw('latex'))\n",
    "density_operator = state.to_operator()\n",
    "#print(density_operator.data)\n",
    "coherence = 0\n",
    "for i in range(8):\n",
    "    for j in range(8):\n",
    "        if(i != j):\n",
    "            coherence += abs(density_operator.data[i,j])\n",
    "print(\"coherence of |ψ5⟩ = \",coherence)\n",
    "\n",
    "#2nd iteration\n",
    "print(\"2nd ITERATION OF GROVER'S OPERATOR\")\n",
    "qc.barrier()\n",
    "\n",
    "O_operator = Operator([[ 1, 0, 0, 0, 0, 0, 0, 0],  #000\n",
    "                       [ 0, 1, 0, 0, 0, 0, 0, 0],  #001\n",
    "                       [ 0, 0,-1, 0, 0, 0, 0, 0],  #010\n",
    "                       [ 0, 0, 0, 1, 0, 0, 0, 0],  #011\n",
    "                       [ 0, 0, 0, 0,-1, 0, 0, 0],  #100\n",
    "                       [ 0, 0, 0, 0, 0, 1, 0, 0],  #101\n",
    "                       [ 0, 0, 0, 0, 0, 0,-1, 0],  #110\n",
    "                       [ 0, 0, 0, 0, 0, 0, 0,-1]]) #111\n",
    "qc.append(O_operator,[0,1,2])\n",
    "result = execute(qc, backend).result()\n",
    "state = result.get_statevector()\n",
    "display(\"applied O operator to all |ψ2⟩\", state.draw('latex'))\n",
    "density_operator = state.to_operator()\n",
    "#print(density_operator.data)\n",
    "coherence = 0\n",
    "for i in range(8):\n",
    "    for j in range(8):\n",
    "        if(i != j):\n",
    "            coherence += abs(density_operator.data[i,j])\n",
    "print(\"coherence of |ψ0⟩ = \",coherence)\n",
    "\n",
    "qc.h([0,1,2])\n",
    "result = execute(qc, backend).result()\n",
    "state = result.get_statevector()\n",
    "display(\"applied Hadamard to all |ψ3⟩\", state.draw('latex'))\n",
    "density_operator = state.to_operator()\n",
    "#print(density_operator.data)\n",
    "coherence = 0\n",
    "for i in range(8):\n",
    "    for j in range(8):\n",
    "        if(i != j):\n",
    "            coherence += abs(density_operator.data[i,j])\n",
    "print(\"coherence of |ψ0⟩ = \",coherence)\n",
    "\n",
    "P_operator = Operator([[ 1, 0, 0, 0, 0, 0, 0, 0],\n",
    "                       [ 0,-1, 0, 0, 0, 0, 0, 0],\n",
    "                       [ 0, 0,-1, 0, 0, 0, 0, 0],\n",
    "                       [ 0, 0, 0,-1, 0, 0, 0, 0],\n",
    "                       [ 0, 0, 0, 0,-1, 0, 0, 0],\n",
    "                       [ 0, 0, 0, 0, 0,-1, 0, 0],\n",
    "                       [ 0, 0, 0, 0, 0, 0,-1, 0],\n",
    "                       [ 0, 0, 0, 0, 0, 0, 0,-1]])\n",
    "qc.append(P_operator,[0,1,2])\n",
    "result = execute(qc, backend).result()\n",
    "state = result.get_statevector()\n",
    "display(\"applied P operator to all |ψ4⟩\", state.draw('latex'))\n",
    "density_operator = state.to_operator()\n",
    "#print(density_operator.data)\n",
    "coherence = 0\n",
    "for i in range(8):\n",
    "    for j in range(8):\n",
    "        if(i != j):\n",
    "            coherence += abs(density_operator.data[i,j])\n",
    "print(\"coherence of |ψ0⟩ = \",coherence)\n",
    "\n",
    "qc.h([0,1,2])\n",
    "result = execute(qc, backend).result()\n",
    "state = result.get_statevector()\n",
    "display(\"applied Hadamard to all |ψ5⟩\", state.draw('latex'))\n",
    "density_operator = state.to_operator()\n",
    "#print(density_operator.data)\n",
    "coherence = 0\n",
    "for i in range(8):\n",
    "    for j in range(8):\n",
    "        if(i != j):\n",
    "            coherence += abs(density_operator.data[i,j])\n",
    "print(\"coherence of |ψ0⟩ = \",coherence)\n",
    "\n",
    "qc.draw('mpl')"
   ]
  },
  {
   "cell_type": "markdown",
   "id": "2ba0ad4e",
   "metadata": {},
   "source": [
    "### G = DO = (2 |ψ1⟩ ⟨ψ1| - I)  (I - 2|010⟩ ⟨010| - 2|110⟩ ⟨110| - 2|100⟩ ⟨100|- 2|111⟩ ⟨111|)"
   ]
  },
  {
   "cell_type": "code",
   "execution_count": 3,
   "id": "1a7cfaa8",
   "metadata": {},
   "outputs": [
    {
     "data": {
      "text/plain": [
       "'initialised |ψ0⟩'"
      ]
     },
     "metadata": {},
     "output_type": "display_data"
    },
    {
     "data": {
      "text/latex": [
       "$$ |000\\rangle$$"
      ],
      "text/plain": [
       "<IPython.core.display.Latex object>"
      ]
     },
     "metadata": {},
     "output_type": "display_data"
    },
    {
     "name": "stdout",
     "output_type": "stream",
     "text": [
      "coherence of |ψ0⟩ =  0.0\n"
     ]
    },
    {
     "data": {
      "text/plain": [
       "'applied Hadamard to all |ψ1⟩'"
      ]
     },
     "metadata": {},
     "output_type": "display_data"
    },
    {
     "data": {
      "text/latex": [
       "$$\\frac{\\sqrt{2}}{4} |000\\rangle+\\frac{\\sqrt{2}}{4} |001\\rangle+\\frac{\\sqrt{2}}{4} |010\\rangle+\\frac{\\sqrt{2}}{4} |011\\rangle+\\frac{\\sqrt{2}}{4} |100\\rangle+\\frac{\\sqrt{2}}{4} |101\\rangle+\\frac{\\sqrt{2}}{4} |110\\rangle+\\frac{\\sqrt{2}}{4} |111\\rangle$$"
      ],
      "text/plain": [
       "<IPython.core.display.Latex object>"
      ]
     },
     "metadata": {},
     "output_type": "display_data"
    },
    {
     "name": "stdout",
     "output_type": "stream",
     "text": [
      "coherence of |ψ1⟩ =  7.000000000000001\n",
      "1st GROVER ITERATION\n"
     ]
    },
    {
     "data": {
      "text/plain": [
       "'applied O operator to all |ψ2⟩'"
      ]
     },
     "metadata": {},
     "output_type": "display_data"
    },
    {
     "data": {
      "text/latex": [
       "$$- \\frac{\\sqrt{2}}{4} |000\\rangle+\\frac{\\sqrt{2}}{4} |001\\rangle- \\frac{\\sqrt{2}}{4} |010\\rangle+\\frac{\\sqrt{2}}{4} |011\\rangle+\\frac{\\sqrt{2}}{4} |100\\rangle- \\frac{\\sqrt{2}}{4} |101\\rangle+\\frac{\\sqrt{2}}{4} |110\\rangle- \\frac{\\sqrt{2}}{4} |111\\rangle$$"
      ],
      "text/plain": [
       "<IPython.core.display.Latex object>"
      ]
     },
     "metadata": {},
     "output_type": "display_data"
    },
    {
     "name": "stdout",
     "output_type": "stream",
     "text": [
      "coherence of |ψ2⟩ =  7.000000000000001\n"
     ]
    },
    {
     "data": {
      "text/plain": [
       "'applied D operator to all |ψ5⟩'"
      ]
     },
     "metadata": {},
     "output_type": "display_data"
    },
    {
     "data": {
      "text/latex": [
       "$$\\frac{\\sqrt{2}}{4} |000\\rangle- \\frac{\\sqrt{2}}{4} |001\\rangle+\\frac{\\sqrt{2}}{4} |010\\rangle- \\frac{\\sqrt{2}}{4} |011\\rangle- \\frac{\\sqrt{2}}{4} |100\\rangle+\\frac{\\sqrt{2}}{4} |101\\rangle- \\frac{\\sqrt{2}}{4} |110\\rangle+\\frac{\\sqrt{2}}{4} |111\\rangle$$"
      ],
      "text/plain": [
       "<IPython.core.display.Latex object>"
      ]
     },
     "metadata": {},
     "output_type": "display_data"
    },
    {
     "name": "stdout",
     "output_type": "stream",
     "text": [
      "coherence of |ψ5⟩ =  7.000000000000001\n"
     ]
    },
    {
     "data": {
      "image/png": "[encoded data removed]",
      "text/plain": [
       "<Figure size 538.33x284.278 with 1 Axes>"
      ]
     },
     "execution_count": 3,
     "metadata": {},
     "output_type": "execute_result"
    }
   ],
   "source": [
    "qc = QuantumCircuit(3)\n",
    "backend = Aer.get_backend('statevector_simulator')\n",
    "result = execute(qc, backend).result()\n",
    "state = result.get_statevector()\n",
    "display(\"initialised |ψ0⟩\", state.draw('latex'))\n",
    "density_operator = state.to_operator()\n",
    "#print(density_operator.data)\n",
    "coherence = 0\n",
    "for i in range(8):\n",
    "    for j in range(8):\n",
    "        if(i != j):\n",
    "            coherence += abs(density_operator.data[i,j])\n",
    "print(\"coherence of |ψ0⟩ = \",coherence)\n",
    "\n",
    "qc.h([0,1,2])\n",
    "result = execute(qc, backend).result()\n",
    "state = result.get_statevector()\n",
    "display(\"applied Hadamard to all |ψ1⟩\", state.draw('latex'))\n",
    "density_operator = state.to_operator()\n",
    "#print(density_operator.data)\n",
    "coherence = 0\n",
    "for i in range(8):\n",
    "    for j in range(8):\n",
    "        if(i != j):\n",
    "            coherence += abs(density_operator.data[i,j])\n",
    "print(\"coherence of |ψ1⟩ = \",coherence)\n",
    "\n",
    "print(\"1st GROVER ITERATION\")\n",
    "O_operator = Operator([[-1, 0, 0, 0, 0, 0, 0, 0],\n",
    "                       [ 0, 1, 0, 0, 0, 0, 0, 0],\n",
    "                       [ 0, 0,-1, 0, 0, 0, 0, 0],\n",
    "                       [ 0, 0, 0, 1, 0, 0, 0, 0],\n",
    "                       [ 0, 0, 0, 0, 1, 0, 0, 0],\n",
    "                       [ 0, 0, 0, 0, 0,-1, 0, 0],\n",
    "                       [ 0, 0, 0, 0, 0, 0, 1, 0],\n",
    "                       [ 0, 0, 0, 0, 0, 0, 0,-1]])\n",
    "qc.append(O_operator,[0,1,2])\n",
    "result = execute(qc, backend).result()\n",
    "state = result.get_statevector()\n",
    "display(\"applied O operator to all |ψ2⟩\", state.draw('latex'))\n",
    "density_operator = state.to_operator()\n",
    "#print(density_operator.data)\n",
    "coherence = 0\n",
    "for i in range(8):\n",
    "    for j in range(8):\n",
    "        if(i != j):\n",
    "            coherence += abs(density_operator.data[i,j])\n",
    "print(\"coherence of |ψ2⟩ = \",coherence)\n",
    "\n",
    "D_operator = Operator([[-3/4, 1/4, 1/4, 1/4, 1/4, 1/4, 1/4, 1/4],\n",
    "                       [ 1/4,-3/4, 1/4, 1/4, 1/4, 1/4, 1/4, 1/4],\n",
    "                       [ 1/4, 1/4,-3/4, 1/4, 1/4, 1/4, 1/4, 1/4],\n",
    "                       [ 1/4, 1/4, 1/4,-3/4, 1/4, 1/4, 1/4, 1/4],\n",
    "                       [ 1/4, 1/4, 1/4, 1/4,-3/4, 1/4, 1/4, 1/4],\n",
    "                       [ 1/4, 1/4, 1/4, 1/4, 1/4,-3/4, 1/4, 1/4],\n",
    "                       [ 1/4, 1/4, 1/4, 1/4, 1/4, 1/4,-3/4, 1/4],\n",
    "                       [ 1/4, 1/4, 1/4, 1/4, 1/4, 1/4, 1/4,-3/4]])\n",
    "qc.append(D_operator,[0,1,2])\n",
    "result = execute(qc, backend).result()\n",
    "state = result.get_statevector()\n",
    "display(\"applied D operator to all |ψ5⟩\", state.draw('latex'))\n",
    "density_operator = state.to_operator()\n",
    "#print(density_operator.data)\n",
    "coherence = 0\n",
    "for i in range(8):\n",
    "    for j in range(8):\n",
    "        if(i != j):\n",
    "            coherence += abs(density_operator.data[i,j])\n",
    "print(\"coherence of |ψ5⟩ = \",coherence)\n",
    "'''\n",
    "print(\"2nd GROVER ITERATION\")\n",
    "qc.barrier()\n",
    "O_operator = Operator([[-1, 0, 0, 0, 0, 0, 0, 0],\n",
    "                       [ 0, 1, 0, 0, 0, 0, 0, 0],\n",
    "                       [ 0, 0,-1, 0, 0, 0, 0, 0],\n",
    "                       [ 0, 0, 0, 1, 0, 0, 0, 0],\n",
    "                       [ 0, 0, 0, 0,-1, 0, 0, 0],\n",
    "                       [ 0, 0, 0, 0, 0, 1, 0, 0],\n",
    "                       [ 0, 0, 0, 0, 0, 0,-1, 0],\n",
    "                       [ 0, 0, 0, 0, 0, 0, 0, 1]])\n",
    "qc.append(O_operator,[0,1,2])\n",
    "result = execute(qc, backend).result()\n",
    "state = result.get_statevector()\n",
    "display(\"applied O operator to all |ψ2⟩\", state.draw('latex'))\n",
    "density_operator = state.to_operator()\n",
    "#print(density_operator.data)\n",
    "coherence = 0\n",
    "for i in range(4):\n",
    "    for j in range(4):\n",
    "        if(i != j):\n",
    "            coherence += abs(density_operator.data[i,j])\n",
    "print(\"coherence of |ψ2⟩ = \",coherence)\n",
    "\n",
    "D_operator = Operator([[-3/4, 1/4, 1/4, 1/4, 1/4, 1/4, 1/4, 1/4],\n",
    "                       [ 1/4,-3/4, 1/4, 1/4, 1/4, 1/4, 1/4, 1/4],\n",
    "                       [ 1/4, 1/4,-3/4, 1/4, 1/4, 1/4, 1/4, 1/4],\n",
    "                       [ 1/4, 1/4, 1/4,-3/4, 1/4, 1/4, 1/4, 1/4],\n",
    "                       [ 1/4, 1/4, 1/4, 1/4,-3/4, 1/4, 1/4, 1/4],\n",
    "                       [ 1/4, 1/4, 1/4, 1/4, 1/4,-3/4, 1/4, 1/4],\n",
    "                       [ 1/4, 1/4, 1/4, 1/4, 1/4, 1/4,-3/4, 1/4],\n",
    "                       [ 1/4, 1/4, 1/4, 1/4, 1/4, 1/4, 1/4,-3/4]])\n",
    "qc.append(D_operator,[0,1,2])\n",
    "result = execute(qc, backend).result()\n",
    "state = result.get_statevector()\n",
    "display(\"applied D operator to all |ψ5⟩\", state.draw('latex'))\n",
    "density_operator = state.to_operator()\n",
    "#print(density_operator.data)\n",
    "coherence = 0\n",
    "for i in range(4):\n",
    "    for j in range(4):\n",
    "        if(i != j):\n",
    "            coherence += abs(density_operator.data[i,j])\n",
    "print(\"coherence of |ψ5⟩ = \",coherence)\n",
    "'''\n",
    "qc.draw('mpl')"
   ]
  },
  {
   "cell_type": "code",
   "execution_count": null,
   "id": "fe610a5e",
   "metadata": {},
   "outputs": [],
   "source": []
  }
 ],
 "metadata": {
  "kernelspec": {
   "display_name": "Python 3 (ipykernel)",
   "language": "python",
   "name": "python3"
  },
  "language_info": {
   "codemirror_mode": {
    "name": "ipython",
    "version": 3
   },
   "file_extension": ".py",
   "mimetype": "text/x-python",
   "name": "python",
   "nbconvert_exporter": "python",
   "pygments_lexer": "ipython3",
   "version": "3.9.13"
  }
 },
 "nbformat": 4,
 "nbformat_minor": 5
}
